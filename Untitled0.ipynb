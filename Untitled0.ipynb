{
  "nbformat": 4,
  "nbformat_minor": 0,
  "metadata": {
    "colab": {
      "provenance": [],
      "authorship_tag": "ABX9TyOaLS2qxtSiom5kI0J6GEwh",
      "include_colab_link": true
    },
    "kernelspec": {
      "name": "python3",
      "display_name": "Python 3"
    },
    "language_info": {
      "name": "python"
    }
  },
  "cells": [
    {
      "cell_type": "markdown",
      "metadata": {
        "id": "view-in-github",
        "colab_type": "text"
      },
      "source": [
        "<a href=\"https://colab.research.google.com/github/caddrick/quiz/blob/main/Untitled0.ipynb\" target=\"_parent\"><img src=\"https://colab.research.google.com/assets/colab-badge.svg\" alt=\"Open In Colab\"/></a>"
      ]
    },
    {
      "cell_type": "code",
      "execution_count": 1,
      "metadata": {
        "colab": {
          "base_uri": "https://localhost:8080/"
        },
        "id": "_o2cDtI7M_pN",
        "outputId": "aefc527c-0c3e-4fff-91d6-8935dbd88211"
      },
      "outputs": [
        {
          "output_type": "stream",
          "name": "stdout",
          "text": [
            "Welcome to AskPython Quiz\n",
            "Are you ready to play the Quiz ? (yes/no) :yes\n",
            "Question 1: What is your Favourite programming language?python\n",
            "correct\n",
            "Question 2: Do you follow any author on AskPython? yes\n",
            "correct\n",
            "Question 3: What is the name of your favourite website for learning Python?ask python\n",
            "Wrong Answer :(\n",
            "Thankyou for Playing this small quiz game, you attempted 2 questions correctly!\n",
            "Marks obtained: 66.66666666666666\n",
            "BYE!\n"
          ]
        }
      ],
      "source": [
        "print('Welcome to AskPython Quiz')\n",
        "answer=input('Are you ready to play the Quiz ? (yes/no) :')\n",
        "score=0\n",
        "total_questions=3\n",
        "\n",
        "if answer.lower()=='yes':\n",
        "    answer=input('Question 1: What is your Favourite programming language?')\n",
        "    if answer.lower()=='python':\n",
        "        score += 1\n",
        "        print('correct')\n",
        "    else:\n",
        "        print('Wrong Answer :(')\n",
        "\n",
        "\n",
        "    answer=input('Question 2: Do you follow any author on AskPython? ')\n",
        "    if answer.lower()=='yes':\n",
        "        score += 1\n",
        "        print('correct')\n",
        "    else:\n",
        "        print('Wrong Answer :(')\n",
        "\n",
        "    answer=input('Question 3: What is the name of your favourite website for learning Python?')\n",
        "    if answer.lower()=='askpython':\n",
        "        score += 1\n",
        "        print('correct')\n",
        "    else:\n",
        "        print('Wrong Answer :(')\n",
        "\n",
        "print('Thankyou for Playing this small quiz game, you attempted',score,\"questions correctly!\")\n",
        "mark=(score/total_questions)*100\n",
        "print('Marks obtained:',mark)\n",
        "print('BYE!')"
      ]
    }
  ]
}